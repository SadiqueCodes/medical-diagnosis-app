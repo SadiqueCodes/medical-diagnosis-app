{
 "cells": [
  {
   "cell_type": "code",
   "execution_count": 12,
   "id": "bc3f8470-bdd4-4eba-a06b-b62c4e570558",
   "metadata": {},
   "outputs": [
    {
     "name": "stdout",
     "output_type": "stream",
     "text": [
      "Current Directory: C:\\Users\\alisa\\Medical diagnosis using AI\\Datasets\n"
     ]
    }
   ],
   "source": [
    "import os\n",
    "print(\"Current Directory:\", os.getcwd())\n"
   ]
  },
  {
   "cell_type": "code",
   "execution_count": 13,
   "id": "312f4c8b-6deb-41fe-8834-dd004f4af092",
   "metadata": {},
   "outputs": [
    {
     "name": "stdout",
     "output_type": "stream",
     "text": [
      "Files in 'Datasets' folder: ['.ipynb_checkpoints', 'diabetes_data.csv', 'heart_disease_data.csv', 'hypothyroid.csv', 'parkinson_data.csv', 'prepocessed_hypothyroid.csv', 'prepocessed_lungs_data.csv', 'survey lung cancer.csv', 'Untitled.ipynb', 'Untitled1.ipynb']\n"
     ]
    }
   ],
   "source": [
    "import os\n",
    "print(\"Files in 'Datasets' folder:\", os.listdir())\n"
   ]
  },
  {
   "cell_type": "code",
   "execution_count": 14,
   "id": "4cbbff0b-27b5-483c-bf16-e57f5f85e3f4",
   "metadata": {},
   "outputs": [
    {
     "name": "stdout",
     "output_type": "stream",
     "text": [
      "   age  sex  cp  trestbps  chol  fbs  restecg  thalach  exang  oldpeak  slope  \\\n",
      "0   63    1   3       145   233    1        0      150      0      2.3      0   \n",
      "1   37    1   2       130   250    0        1      187      0      3.5      0   \n",
      "2   41    0   1       130   204    0        0      172      0      1.4      2   \n",
      "3   56    1   1       120   236    0        1      178      0      0.8      2   \n",
      "4   57    0   0       120   354    0        1      163      1      0.6      2   \n",
      "\n",
      "   ca  thal  target  \n",
      "0   0     1       1  \n",
      "1   0     2       1  \n",
      "2   0     2       1  \n",
      "3   0     2       1  \n",
      "4   0     2       1  \n"
     ]
    }
   ],
   "source": [
    "import pandas as pd\n",
    "\n",
    "# Load the dataset\n",
    "df = pd.read_csv(\"heart_disease_data.csv\")  \n",
    "\n",
    "# Show the first few rows\n",
    "print(df.head())\n"
   ]
  },
  {
   "cell_type": "code",
   "execution_count": 15,
   "id": "e7b57a0f-d3b5-4c51-90c8-8cb02d39d529",
   "metadata": {},
   "outputs": [
    {
     "name": "stdout",
     "output_type": "stream",
     "text": [
      "age         0\n",
      "sex         0\n",
      "cp          0\n",
      "trestbps    0\n",
      "chol        0\n",
      "fbs         0\n",
      "restecg     0\n",
      "thalach     0\n",
      "exang       0\n",
      "oldpeak     0\n",
      "slope       0\n",
      "ca          0\n",
      "thal        0\n",
      "target      0\n",
      "dtype: int64\n"
     ]
    }
   ],
   "source": [
    "print(df.isnull().sum())  # Check for missing values\n",
    "\n"
   ]
  },
  {
   "cell_type": "code",
   "execution_count": 16,
   "id": "73fdd4b0-15cd-46e4-9770-590751c4a091",
   "metadata": {},
   "outputs": [
    {
     "name": "stdout",
     "output_type": "stream",
     "text": [
      "        age       sex  trestbps      chol       fbs   restecg   thalach  \\\n",
      "0  0.952197  0.681005  0.763956 -0.256334  2.394438 -1.005832  0.015443   \n",
      "1 -1.915313  0.681005 -0.092738  0.072199 -0.417635  0.898962  1.633471   \n",
      "2 -1.474158 -1.468418 -0.092738 -0.816773 -0.417635 -1.005832  0.977514   \n",
      "3  0.180175  0.681005 -0.663867 -0.198357 -0.417635  0.898962  1.239897   \n",
      "4  0.290464 -1.468418 -0.663867  2.082050 -0.417635  0.898962  0.583939   \n",
      "\n",
      "      exang   oldpeak        ca  ...      cp_1      cp_2      cp_3    thal_0  \\\n",
      "0 -0.696631  1.087338 -0.714429  ... -0.444554 -0.634648  3.489114 -0.081514   \n",
      "1 -0.696631  2.122573 -0.714429  ... -0.444554  1.575677 -0.286606 -0.081514   \n",
      "2 -0.696631  0.310912 -0.714429  ...  2.249444 -0.634648 -0.286606 -0.081514   \n",
      "3 -0.696631 -0.206705 -0.714429  ...  2.249444 -0.634648 -0.286606 -0.081514   \n",
      "4  1.435481 -0.379244 -0.714429  ... -0.444554 -0.634648 -0.286606 -0.081514   \n",
      "\n",
      "     thal_1    thal_2    thal_3   slope_0   slope_1   slope_2  \n",
      "0  3.979112 -1.100763 -0.793116  3.664502 -0.926766 -0.939142  \n",
      "1 -0.251312  0.908461 -0.793116  3.664502 -0.926766 -0.939142  \n",
      "2 -0.251312  0.908461 -0.793116 -0.272888 -0.926766  1.064802  \n",
      "3 -0.251312  0.908461 -0.793116 -0.272888 -0.926766  1.064802  \n",
      "4 -0.251312  0.908461 -0.793116 -0.272888 -0.926766  1.064802  \n",
      "\n",
      "[5 rows x 21 columns]\n"
     ]
    }
   ],
   "source": [
    "import pandas as pd\n",
    "from sklearn.preprocessing import StandardScaler\n",
    "\n",
    "# Convert categorical variables to dummy variables\n",
    "df = pd.get_dummies(df, columns=['cp', 'thal', 'slope'])\n",
    "\n",
    "# Separate features (X) and target (y)\n",
    "X = df.drop(\"target\", axis=1)\n",
    "y = df[\"target\"]\n",
    "\n",
    "# Normalize numerical features\n",
    "scaler = StandardScaler()\n",
    "X_scaled = scaler.fit_transform(X)\n",
    "\n",
    "# Display processed data\n",
    "print(pd.DataFrame(X_scaled, columns=X.columns).head())\n"
   ]
  },
  {
   "cell_type": "code",
   "execution_count": 17,
   "id": "2164ac99-e3fe-4197-9b6e-c33d34d969a5",
   "metadata": {},
   "outputs": [
    {
     "name": "stdout",
     "output_type": "stream",
     "text": [
      "Model Accuracy: 0.8688524590163934\n"
     ]
    }
   ],
   "source": [
    "from sklearn.model_selection import train_test_split\n",
    "from sklearn.ensemble import RandomForestClassifier\n",
    "from sklearn.metrics import accuracy_score\n",
    "\n",
    "# Split data into training and test sets\n",
    "X_train, X_test, y_train, y_test = train_test_split(X_scaled, y, test_size=0.2, random_state=42)\n",
    "\n",
    "# Train the model\n",
    "model = RandomForestClassifier(n_estimators=100, random_state=42)\n",
    "model.fit(X_train, y_train)\n",
    "\n",
    "# Make predictions\n",
    "y_pred = model.predict(X_test)\n",
    "\n",
    "# Print model accuracy\n",
    "print(\"Model Accuracy:\", accuracy_score(y_test, y_pred))\n"
   ]
  },
  {
   "cell_type": "code",
   "execution_count": 18,
   "id": "e0a99698-1272-4835-88dd-2b20d77a0d61",
   "metadata": {},
   "outputs": [
    {
     "name": "stdout",
     "output_type": "stream",
     "text": [
      "Model saved!\n"
     ]
    }
   ],
   "source": [
    "import joblib\n",
    "\n",
    "# Save the model and scaler\n",
    "joblib.dump(model, \"heart_disease_model.pkl\")\n",
    "joblib.dump(scaler, \"scaler.pkl\")\n",
    "print(\"Model saved!\")\n"
   ]
  },
  {
   "cell_type": "code",
   "execution_count": 19,
   "id": "516a1520-31f9-43d4-95ad-f66458110e4e",
   "metadata": {},
   "outputs": [
    {
     "name": "stdout",
     "output_type": "stream",
     "text": [
      "['.ipynb_checkpoints', 'diabetes_data.csv', 'heart_disease_data.csv', 'heart_disease_model.pkl', 'hypothyroid.csv', 'parkinson_data.csv', 'prepocessed_hypothyroid.csv', 'prepocessed_lungs_data.csv', 'scaler.pkl', 'survey lung cancer.csv', 'Untitled.ipynb', 'Untitled1.ipynb']\n"
     ]
    }
   ],
   "source": [
    "import os\n",
    "print(os.listdir())  # Lists files in the current directory\n",
    "\n"
   ]
  },
  {
   "cell_type": "code",
   "execution_count": null,
   "id": "0c3062c8-2cc1-4d9f-801d-5cf09a80f588",
   "metadata": {},
   "outputs": [],
   "source": []
  }
 ],
 "metadata": {
  "kernelspec": {
   "display_name": "Python 3 (ipykernel)",
   "language": "python",
   "name": "python3"
  },
  "language_info": {
   "codemirror_mode": {
    "name": "ipython",
    "version": 3
   },
   "file_extension": ".py",
   "mimetype": "text/x-python",
   "name": "python",
   "nbconvert_exporter": "python",
   "pygments_lexer": "ipython3",
   "version": "3.13.2"
  }
 },
 "nbformat": 4,
 "nbformat_minor": 5
}
