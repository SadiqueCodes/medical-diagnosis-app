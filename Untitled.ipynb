{
 "cells": [
  {
   "cell_type": "code",
   "execution_count": 1,
   "id": "e9743c84-d935-48c3-a609-5141c9fcc011",
   "metadata": {},
   "outputs": [
    {
     "name": "stdout",
     "output_type": "stream",
     "text": [
      "['diabetes_model.sav', 'heart_disease_model.sav', 'lungs_disease_model.sav', 'parkinsons_model.sav', 'Thyroid_model.sav']\n"
     ]
    }
   ],
   "source": [
    "import os\n",
    "print(os.listdir(\"Models\"))\n"
   ]
  },
  {
   "cell_type": "code",
   "execution_count": null,
   "id": "795f5f98-90a0-4bc5-bb4c-01aa30e85977",
   "metadata": {},
   "outputs": [],
   "source": []
  }
 ],
 "metadata": {
  "kernelspec": {
   "display_name": "Python 3 (ipykernel)",
   "language": "python",
   "name": "python3"
  },
  "language_info": {
   "codemirror_mode": {
    "name": "ipython",
    "version": 3
   },
   "file_extension": ".py",
   "mimetype": "text/x-python",
   "name": "python",
   "nbconvert_exporter": "python",
   "pygments_lexer": "ipython3",
   "version": "3.13.2"
  }
 },
 "nbformat": 4,
 "nbformat_minor": 5
}
